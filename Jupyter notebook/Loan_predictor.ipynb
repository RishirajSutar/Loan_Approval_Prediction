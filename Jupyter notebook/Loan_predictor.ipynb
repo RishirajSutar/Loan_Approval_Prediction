{
 "cells": [
  {
   "cell_type": "code",
   "execution_count": 1,
   "id": "332ffbe6",
   "metadata": {},
   "outputs": [],
   "source": [
    "from sklearn.linear_model import LogisticRegression\n",
    "import pandas as pd\n",
    "import matplotlib.pyplot as plt\n",
    "import seaborn as sns\n",
    "import numpy as np\n",
    "import pandas as pd\n",
    "import statsmodels.api as sm"
   ]
  },
  {
   "cell_type": "code",
   "execution_count": 2,
   "id": "d5a83728",
   "metadata": {},
   "outputs": [
    {
     "data": {
      "text/html": [
       "<div>\n",
       "<style scoped>\n",
       "    .dataframe tbody tr th:only-of-type {\n",
       "        vertical-align: middle;\n",
       "    }\n",
       "\n",
       "    .dataframe tbody tr th {\n",
       "        vertical-align: top;\n",
       "    }\n",
       "\n",
       "    .dataframe thead th {\n",
       "        text-align: right;\n",
       "    }\n",
       "</style>\n",
       "<table border=\"1\" class=\"dataframe\">\n",
       "  <thead>\n",
       "    <tr style=\"text-align: right;\">\n",
       "      <th></th>\n",
       "      <th>Loan_ID</th>\n",
       "      <th>Gender</th>\n",
       "      <th>Married</th>\n",
       "      <th>Dependents</th>\n",
       "      <th>Education</th>\n",
       "      <th>Self_Employed</th>\n",
       "      <th>ApplicantIncome</th>\n",
       "      <th>CoapplicantIncome</th>\n",
       "      <th>LoanAmount</th>\n",
       "      <th>Loan_Amount_Term</th>\n",
       "      <th>Credit_History</th>\n",
       "      <th>Property_Area</th>\n",
       "      <th>Loan_Status</th>\n",
       "    </tr>\n",
       "  </thead>\n",
       "  <tbody>\n",
       "    <tr>\n",
       "      <th>0</th>\n",
       "      <td>LP001002</td>\n",
       "      <td>Male</td>\n",
       "      <td>No</td>\n",
       "      <td>0</td>\n",
       "      <td>Graduate</td>\n",
       "      <td>No</td>\n",
       "      <td>5849</td>\n",
       "      <td>0.0</td>\n",
       "      <td>NaN</td>\n",
       "      <td>360.0</td>\n",
       "      <td>1.0</td>\n",
       "      <td>Urban</td>\n",
       "      <td>Y</td>\n",
       "    </tr>\n",
       "    <tr>\n",
       "      <th>1</th>\n",
       "      <td>LP001003</td>\n",
       "      <td>Male</td>\n",
       "      <td>Yes</td>\n",
       "      <td>1</td>\n",
       "      <td>Graduate</td>\n",
       "      <td>No</td>\n",
       "      <td>4583</td>\n",
       "      <td>1508.0</td>\n",
       "      <td>128.0</td>\n",
       "      <td>360.0</td>\n",
       "      <td>1.0</td>\n",
       "      <td>Rural</td>\n",
       "      <td>N</td>\n",
       "    </tr>\n",
       "    <tr>\n",
       "      <th>2</th>\n",
       "      <td>LP001005</td>\n",
       "      <td>Male</td>\n",
       "      <td>Yes</td>\n",
       "      <td>0</td>\n",
       "      <td>Graduate</td>\n",
       "      <td>Yes</td>\n",
       "      <td>3000</td>\n",
       "      <td>0.0</td>\n",
       "      <td>66.0</td>\n",
       "      <td>360.0</td>\n",
       "      <td>1.0</td>\n",
       "      <td>Urban</td>\n",
       "      <td>Y</td>\n",
       "    </tr>\n",
       "    <tr>\n",
       "      <th>3</th>\n",
       "      <td>LP001006</td>\n",
       "      <td>Male</td>\n",
       "      <td>Yes</td>\n",
       "      <td>0</td>\n",
       "      <td>Not Graduate</td>\n",
       "      <td>No</td>\n",
       "      <td>2583</td>\n",
       "      <td>2358.0</td>\n",
       "      <td>120.0</td>\n",
       "      <td>360.0</td>\n",
       "      <td>1.0</td>\n",
       "      <td>Urban</td>\n",
       "      <td>Y</td>\n",
       "    </tr>\n",
       "    <tr>\n",
       "      <th>4</th>\n",
       "      <td>LP001008</td>\n",
       "      <td>Male</td>\n",
       "      <td>No</td>\n",
       "      <td>0</td>\n",
       "      <td>Graduate</td>\n",
       "      <td>No</td>\n",
       "      <td>6000</td>\n",
       "      <td>0.0</td>\n",
       "      <td>141.0</td>\n",
       "      <td>360.0</td>\n",
       "      <td>1.0</td>\n",
       "      <td>Urban</td>\n",
       "      <td>Y</td>\n",
       "    </tr>\n",
       "  </tbody>\n",
       "</table>\n",
       "</div>"
      ],
      "text/plain": [
       "    Loan_ID Gender Married Dependents     Education Self_Employed   \n",
       "0  LP001002   Male      No          0      Graduate            No  \\\n",
       "1  LP001003   Male     Yes          1      Graduate            No   \n",
       "2  LP001005   Male     Yes          0      Graduate           Yes   \n",
       "3  LP001006   Male     Yes          0  Not Graduate            No   \n",
       "4  LP001008   Male      No          0      Graduate            No   \n",
       "\n",
       "   ApplicantIncome  CoapplicantIncome  LoanAmount  Loan_Amount_Term   \n",
       "0             5849                0.0         NaN             360.0  \\\n",
       "1             4583             1508.0       128.0             360.0   \n",
       "2             3000                0.0        66.0             360.0   \n",
       "3             2583             2358.0       120.0             360.0   \n",
       "4             6000                0.0       141.0             360.0   \n",
       "\n",
       "   Credit_History Property_Area Loan_Status  \n",
       "0             1.0         Urban           Y  \n",
       "1             1.0         Rural           N  \n",
       "2             1.0         Urban           Y  \n",
       "3             1.0         Urban           Y  \n",
       "4             1.0         Urban           Y  "
      ]
     },
     "execution_count": 2,
     "metadata": {},
     "output_type": "execute_result"
    }
   ],
   "source": [
    "data = pd.read_csv(\"train_u6lujuX_CVtuZ9i.csv\")\n",
    "data.head()"
   ]
  },
  {
   "cell_type": "code",
   "execution_count": 3,
   "id": "cd0d9a92",
   "metadata": {},
   "outputs": [
    {
     "data": {
      "text/plain": [
       "Loan_ID               0\n",
       "Gender               13\n",
       "Married               3\n",
       "Dependents           15\n",
       "Education             0\n",
       "Self_Employed        32\n",
       "ApplicantIncome       0\n",
       "CoapplicantIncome     0\n",
       "LoanAmount           22\n",
       "Loan_Amount_Term     14\n",
       "Credit_History       50\n",
       "Property_Area         0\n",
       "Loan_Status           0\n",
       "dtype: int64"
      ]
     },
     "execution_count": 3,
     "metadata": {},
     "output_type": "execute_result"
    }
   ],
   "source": [
    "#Check for Null Values\n",
    "data.isnull().sum()"
   ]
  },
  {
   "cell_type": "code",
   "execution_count": 4,
   "id": "15dd3ded",
   "metadata": {},
   "outputs": [
    {
     "name": "stdout",
     "output_type": "stream",
     "text": [
      "<class 'pandas.core.frame.DataFrame'>\n",
      "RangeIndex: 614 entries, 0 to 613\n",
      "Data columns (total 13 columns):\n",
      " #   Column             Non-Null Count  Dtype  \n",
      "---  ------             --------------  -----  \n",
      " 0   Loan_ID            614 non-null    object \n",
      " 1   Gender             601 non-null    object \n",
      " 2   Married            611 non-null    object \n",
      " 3   Dependents         599 non-null    object \n",
      " 4   Education          614 non-null    object \n",
      " 5   Self_Employed      582 non-null    object \n",
      " 6   ApplicantIncome    614 non-null    int64  \n",
      " 7   CoapplicantIncome  614 non-null    float64\n",
      " 8   LoanAmount         592 non-null    float64\n",
      " 9   Loan_Amount_Term   600 non-null    float64\n",
      " 10  Credit_History     564 non-null    float64\n",
      " 11  Property_Area      614 non-null    object \n",
      " 12  Loan_Status        614 non-null    object \n",
      "dtypes: float64(4), int64(1), object(8)\n",
      "memory usage: 62.5+ KB\n"
     ]
    }
   ],
   "source": [
    "data.info()"
   ]
  },
  {
   "cell_type": "markdown",
   "id": "5dac2897",
   "metadata": {},
   "source": [
    "## Feature Engineering: \n",
    "\n",
    "#### 1) Dealing with Missing Values"
   ]
  },
  {
   "cell_type": "code",
   "execution_count": 5,
   "id": "7ef9ed51",
   "metadata": {},
   "outputs": [],
   "source": [
    "data['Education'] = data['Education'].replace(['Graduate', 'Not Graduate'] , [1.0 , 0.0])\n",
    "\n",
    "mode_value = data['Education'].mode()[0]\n",
    "\n",
    "# Replace the null values with the mode value\n",
    "data['Education'].fillna(mode_value, inplace=True)\n",
    "\n",
    "\n",
    "#dropping unnecessary column\n",
    "data = data.drop('Loan_ID' , axis = 1)\n",
    "\n",
    "data['Gender'] = data['Gender'].replace(['Male', 'Female'] , [1.0 , 0.0])\n",
    "data['Gender'].unique()\n",
    "mode_value = data['Gender'].mode()[0]\n",
    "# Replace the null values with the mode value\n",
    "data['Gender'].fillna(mode_value, inplace=True)\n",
    "\n",
    "data['Married'] = data['Married'].replace(['No', 'Yes'] , [0.0 , 1.0])\n",
    "mode_value = data['Married'].mode()[0]\n",
    "# Replace the null values with the mode value\n",
    "data['Married'].fillna(mode_value, inplace=True)\n",
    "\n",
    "data['Self_Employed'] = data['Self_Employed'].replace(['No', 'Yes'] , [0.0 , 1.0])\n",
    "mode_value = data['Self_Employed'].mode()[0]\n",
    "# Replace the null values with the mode value\n",
    "data['Self_Employed'].fillna(mode_value, inplace=True)\n",
    "\n",
    "data['Property_Area'] = data['Property_Area'].replace(['Urban', 'Rural', 'Semiurban'] , [2.0 , 0.0 , 1.0])\n",
    "mode_value = data['Property_Area'].mode()[0]\n",
    "# Replace the null values with the mode value\n",
    "data['Property_Area'].fillna(mode_value, inplace=True)\n",
    "\n",
    "data['Loan_Status'] = data['Loan_Status'].replace(['Y', 'N'] , [1.0 , 0.0])\n",
    "mode_value = data['Loan_Status'].mode()[0]\n",
    "# Replace the null values with the mode value\n",
    "data['Loan_Status'].fillna(mode_value, inplace=True)\n",
    "\n",
    "data['Dependents'] = data['Dependents'].replace(['0', '1', '2', '3+'] , [0.0 , 1.0 , 2.0 , 3.0])\n",
    "mode_value = data['Dependents'].mode()[0]\n",
    "# Replace the null values with the mode value\n",
    "data['Dependents'].fillna(mode_value, inplace=True)\n",
    "\n",
    "mode_value = data['Credit_History'].mode()[0]\n",
    "data['Credit_History'].fillna(mode_value , inplace=True)\n",
    "\n",
    "#imputations in continuous variables\n",
    "med_value = data['LoanAmount'].median()\n",
    "data['LoanAmount'].fillna(med_value , inplace=True)\n",
    "med_value = data['Loan_Amount_Term'].median()\n",
    "data['Loan_Amount_Term'].fillna(med_value , inplace=True)\n",
    "\n",
    "data['ApplicantIncome'] = data['ApplicantIncome'].astype(float)"
   ]
  },
  {
   "cell_type": "code",
   "execution_count": 6,
   "id": "10e80f28",
   "metadata": {},
   "outputs": [],
   "source": [
    "#Seperating response and Predictors\n",
    "\n",
    "y = data['Loan_Status']\n",
    "X = data.drop('Loan_Status' , axis=1 , inplace=False)\n",
    "\n",
    "predictors = list(X.columns)"
   ]
  },
  {
   "cell_type": "markdown",
   "id": "4a466fc1",
   "metadata": {},
   "source": [
    "#### 2) Standardizing the Features\n"
   ]
  },
  {
   "cell_type": "code",
   "execution_count": 7,
   "id": "5805c489",
   "metadata": {},
   "outputs": [],
   "source": [
    "# Standardizing the predictor values\n",
    "\n",
    "from sklearn.preprocessing import StandardScaler\n",
    "object= StandardScaler()\n",
    "\n",
    "# standardization \n",
    "X_trans = pd.DataFrame(object.fit_transform(X) , columns=predictors) "
   ]
  },
  {
   "cell_type": "code",
   "execution_count": 8,
   "id": "3458ecde",
   "metadata": {},
   "outputs": [],
   "source": [
    "#Splitting the Data into trainig and testing sets\n",
    "\n",
    "from sklearn.model_selection import train_test_split\n",
    "X_train , X_test , y_train , y_test = train_test_split(X , y , test_size = 0.3 , random_state = 42 , stratify = y) "
   ]
  },
  {
   "cell_type": "markdown",
   "id": "61636ad1",
   "metadata": {},
   "source": [
    "## Feature Selection\n",
    "\n",
    "#### 1) Backward Stepwise Elimination Method"
   ]
  },
  {
   "cell_type": "code",
   "execution_count": 9,
   "id": "35198262",
   "metadata": {},
   "outputs": [
    {
     "name": "stdout",
     "output_type": "stream",
     "text": [
      "the important features are \n",
      "\n",
      "['const', 'Married', 'Education', 'Credit_History']\n"
     ]
    }
   ],
   "source": [
    "##Backward Stepwise Selection\n",
    "\n",
    "\n",
    "X_train1 = sm.add_constant(X_train)\n",
    "feature = list(X_train1.columns)\n",
    "data = pd.DataFrame(X_train1 , columns=feature)\n",
    "data['target'] = y_train\n",
    "\n",
    "\n",
    "model = sm.OLS(data['target'] , data.drop(['target'] , axis=1)).fit()\n",
    "selected_features = feature\n",
    "\n",
    "\n",
    "while len(selected_features) > 1:\n",
    "    p_values = model.pvalues[1:]\n",
    "    max_p_value_idx = np.argmax(p_values)\n",
    "    if p_values[max_p_value_idx] <= 0.2351:\n",
    "        break\n",
    "    feature_to_remove = selected_features[max_p_value_idx + 1]  \n",
    "    selected_features.remove(feature_to_remove)\n",
    "    model = sm.OLS(data['target'], data[selected_features]).fit()\n",
    "    \n",
    "print(\"the important features are \\n\")\n",
    "print(selected_features)"
   ]
  },
  {
   "cell_type": "markdown",
   "id": "91a99e02",
   "metadata": {},
   "source": [
    "#### 2) Using Select k-Best Classifier "
   ]
  },
  {
   "cell_type": "code",
   "execution_count": 11,
   "id": "1f714638",
   "metadata": {},
   "outputs": [
    {
     "data": {
      "text/plain": [
       "Index(['Married', 'Education', 'CoapplicantIncome', 'LoanAmount',\n",
       "       'Credit_History'],\n",
       "      dtype='object')"
      ]
     },
     "execution_count": 11,
     "metadata": {},
     "output_type": "execute_result"
    }
   ],
   "source": [
    "from sklearn.feature_selection import SelectKBest,f_classif #selecting features by the method of selectbestclassifier.\n",
    "X1=X.columns\n",
    "fs = SelectKBest(f_classif, k=5)\n",
    "fs.fit(X,y)\n",
    "X1 = X1[fs.get_support()]\n",
    "X1"
   ]
  },
  {
   "cell_type": "code",
   "execution_count": null,
   "id": "97817107",
   "metadata": {},
   "outputs": [],
   "source": []
  },
  {
   "cell_type": "markdown",
   "id": "3e1ddca6",
   "metadata": {},
   "source": [
    "## Model Fitting"
   ]
  },
  {
   "cell_type": "markdown",
   "id": "f2729460",
   "metadata": {},
   "source": [
    "### 1) Logistic Regression"
   ]
  },
  {
   "cell_type": "code",
   "execution_count": 33,
   "id": "fc76c7da",
   "metadata": {},
   "outputs": [
    {
     "data": {
      "text/html": [
       "<style>#sk-container-id-1 {color: black;background-color: white;}#sk-container-id-1 pre{padding: 0;}#sk-container-id-1 div.sk-toggleable {background-color: white;}#sk-container-id-1 label.sk-toggleable__label {cursor: pointer;display: block;width: 100%;margin-bottom: 0;padding: 0.3em;box-sizing: border-box;text-align: center;}#sk-container-id-1 label.sk-toggleable__label-arrow:before {content: \"▸\";float: left;margin-right: 0.25em;color: #696969;}#sk-container-id-1 label.sk-toggleable__label-arrow:hover:before {color: black;}#sk-container-id-1 div.sk-estimator:hover label.sk-toggleable__label-arrow:before {color: black;}#sk-container-id-1 div.sk-toggleable__content {max-height: 0;max-width: 0;overflow: hidden;text-align: left;background-color: #f0f8ff;}#sk-container-id-1 div.sk-toggleable__content pre {margin: 0.2em;color: black;border-radius: 0.25em;background-color: #f0f8ff;}#sk-container-id-1 input.sk-toggleable__control:checked~div.sk-toggleable__content {max-height: 200px;max-width: 100%;overflow: auto;}#sk-container-id-1 input.sk-toggleable__control:checked~label.sk-toggleable__label-arrow:before {content: \"▾\";}#sk-container-id-1 div.sk-estimator input.sk-toggleable__control:checked~label.sk-toggleable__label {background-color: #d4ebff;}#sk-container-id-1 div.sk-label input.sk-toggleable__control:checked~label.sk-toggleable__label {background-color: #d4ebff;}#sk-container-id-1 input.sk-hidden--visually {border: 0;clip: rect(1px 1px 1px 1px);clip: rect(1px, 1px, 1px, 1px);height: 1px;margin: -1px;overflow: hidden;padding: 0;position: absolute;width: 1px;}#sk-container-id-1 div.sk-estimator {font-family: monospace;background-color: #f0f8ff;border: 1px dotted black;border-radius: 0.25em;box-sizing: border-box;margin-bottom: 0.5em;}#sk-container-id-1 div.sk-estimator:hover {background-color: #d4ebff;}#sk-container-id-1 div.sk-parallel-item::after {content: \"\";width: 100%;border-bottom: 1px solid gray;flex-grow: 1;}#sk-container-id-1 div.sk-label:hover label.sk-toggleable__label {background-color: #d4ebff;}#sk-container-id-1 div.sk-serial::before {content: \"\";position: absolute;border-left: 1px solid gray;box-sizing: border-box;top: 0;bottom: 0;left: 50%;z-index: 0;}#sk-container-id-1 div.sk-serial {display: flex;flex-direction: column;align-items: center;background-color: white;padding-right: 0.2em;padding-left: 0.2em;position: relative;}#sk-container-id-1 div.sk-item {position: relative;z-index: 1;}#sk-container-id-1 div.sk-parallel {display: flex;align-items: stretch;justify-content: center;background-color: white;position: relative;}#sk-container-id-1 div.sk-item::before, #sk-container-id-1 div.sk-parallel-item::before {content: \"\";position: absolute;border-left: 1px solid gray;box-sizing: border-box;top: 0;bottom: 0;left: 50%;z-index: -1;}#sk-container-id-1 div.sk-parallel-item {display: flex;flex-direction: column;z-index: 1;position: relative;background-color: white;}#sk-container-id-1 div.sk-parallel-item:first-child::after {align-self: flex-end;width: 50%;}#sk-container-id-1 div.sk-parallel-item:last-child::after {align-self: flex-start;width: 50%;}#sk-container-id-1 div.sk-parallel-item:only-child::after {width: 0;}#sk-container-id-1 div.sk-dashed-wrapped {border: 1px dashed gray;margin: 0 0.4em 0.5em 0.4em;box-sizing: border-box;padding-bottom: 0.4em;background-color: white;}#sk-container-id-1 div.sk-label label {font-family: monospace;font-weight: bold;display: inline-block;line-height: 1.2em;}#sk-container-id-1 div.sk-label-container {text-align: center;}#sk-container-id-1 div.sk-container {/* jupyter's `normalize.less` sets `[hidden] { display: none; }` but bootstrap.min.css set `[hidden] { display: none !important; }` so we also need the `!important` here to be able to override the default hidden behavior on the sphinx rendered scikit-learn.org. See: https://github.com/scikit-learn/scikit-learn/issues/21755 */display: inline-block !important;position: relative;}#sk-container-id-1 div.sk-text-repr-fallback {display: none;}</style><div id=\"sk-container-id-1\" class=\"sk-top-container\"><div class=\"sk-text-repr-fallback\"><pre>LogisticRegression(max_iter=4000)</pre><b>In a Jupyter environment, please rerun this cell to show the HTML representation or trust the notebook. <br />On GitHub, the HTML representation is unable to render, please try loading this page with nbviewer.org.</b></div><div class=\"sk-container\" hidden><div class=\"sk-item\"><div class=\"sk-estimator sk-toggleable\"><input class=\"sk-toggleable__control sk-hidden--visually\" id=\"sk-estimator-id-1\" type=\"checkbox\" checked><label for=\"sk-estimator-id-1\" class=\"sk-toggleable__label sk-toggleable__label-arrow\">LogisticRegression</label><div class=\"sk-toggleable__content\"><pre>LogisticRegression(max_iter=4000)</pre></div></div></div></div></div>"
      ],
      "text/plain": [
       "LogisticRegression(max_iter=4000)"
      ]
     },
     "execution_count": 33,
     "metadata": {},
     "output_type": "execute_result"
    }
   ],
   "source": [
    "#fitting a logistic Model\n",
    "logisticRegr = LogisticRegression(max_iter=4000)\n",
    "logisticRegr.fit(X_train[X1], y_train)"
   ]
  },
  {
   "cell_type": "code",
   "execution_count": 34,
   "id": "d728757b",
   "metadata": {},
   "outputs": [],
   "source": [
    "y_pred = logisticRegr.predict(X_test[X1])"
   ]
  },
  {
   "cell_type": "code",
   "execution_count": 35,
   "id": "9482ed7a",
   "metadata": {},
   "outputs": [
    {
     "name": "stdout",
     "output_type": "stream",
     "text": [
      "Accuracy :\n",
      "  85.4054054054054\n",
      "Confusion Matrix:\n",
      "  [[ 33  25]\n",
      " [  2 125]]\n",
      "Report : \n",
      "               precision    recall  f1-score   support\n",
      "\n",
      "         0.0       0.94      0.57      0.71        58\n",
      "         1.0       0.83      0.98      0.90       127\n",
      "\n",
      "    accuracy                           0.85       185\n",
      "   macro avg       0.89      0.78      0.81       185\n",
      "weighted avg       0.87      0.85      0.84       185\n",
      "\n"
     ]
    }
   ],
   "source": [
    "from sklearn.metrics import confusion_matrix\n",
    "from sklearn.metrics import accuracy_score\n",
    "from sklearn.metrics import classification_report\n",
    "\n",
    "print (\"Accuracy :\\n \",accuracy_score(y_test,y_pred)*100)\n",
    "\n",
    "print(\"Confusion Matrix:\\n \", confusion_matrix(y_test, y_pred))\n",
    "\n",
    "print(\"Report : \\n\", classification_report(y_test, y_pred))"
   ]
  },
  {
   "cell_type": "code",
   "execution_count": 36,
   "id": "5f188583",
   "metadata": {},
   "outputs": [
    {
     "name": "stdout",
     "output_type": "stream",
     "text": [
      "the auc score is 0.777\n"
     ]
    }
   ],
   "source": [
    "# Calculating the AUC\n",
    "\n",
    "from sklearn import metrics\n",
    "auc2 = metrics.roc_auc_score(y_test, y_pred)\n",
    "print(\"the auc score is %.3f\"%auc2)"
   ]
  },
  {
   "cell_type": "code",
   "execution_count": null,
   "id": "baca9e97",
   "metadata": {},
   "outputs": [],
   "source": []
  },
  {
   "cell_type": "code",
   "execution_count": null,
   "id": "e89eb40a",
   "metadata": {},
   "outputs": [],
   "source": []
  },
  {
   "cell_type": "markdown",
   "id": "1987edb4",
   "metadata": {
    "scrolled": true
   },
   "source": [
    "### 2) Random Forest Classifier"
   ]
  },
  {
   "cell_type": "code",
   "execution_count": 42,
   "id": "6b26fa69",
   "metadata": {},
   "outputs": [
    {
     "name": "stdout",
     "output_type": "stream",
     "text": [
      "Accuracy :\n",
      "  84.86486486486487\n",
      "Confusion Matrix:\n",
      "  [[ 32  26]\n",
      " [  2 125]]\n",
      "Report : \n",
      "               precision    recall  f1-score   support\n",
      "\n",
      "         0.0       0.94      0.55      0.70        58\n",
      "         1.0       0.83      0.98      0.90       127\n",
      "\n",
      "    accuracy                           0.85       185\n",
      "   macro avg       0.88      0.77      0.80       185\n",
      "weighted avg       0.86      0.85      0.84       185\n",
      "\n",
      "the auc score is 0.768\n"
     ]
    }
   ],
   "source": [
    "#Random Forest Classifier\n",
    "\n",
    "from sklearn.ensemble import RandomForestClassifier\n",
    "model_2 = RandomForestClassifier(random_state=0)\n",
    "model_2.fit(X_train[X1] , y_train)\n",
    "y_pred = model_2.predict(X_test[X1])\n",
    "print (\"Accuracy :\\n \",accuracy_score(y_test,y_pred)*100)\n",
    "\n",
    "print(\"Confusion Matrix:\\n \", confusion_matrix(y_test, y_pred))\n",
    "\n",
    "print(\"Report : \\n\", classification_report(y_test, y_pred))\n",
    "\n",
    "auc = metrics.roc_auc_score(y_test, y_pred)\n",
    "print(\"the auc score is %.3f\"%auc)"
   ]
  },
  {
   "cell_type": "code",
   "execution_count": 18,
   "id": "da361874",
   "metadata": {},
   "outputs": [
    {
     "name": "stdout",
     "output_type": "stream",
     "text": [
      "Tuned Decision Tree Parameters: {'criterion': 'gini', 'max_depth': 5, 'max_features': 9, 'min_samples_leaf': 3, 'min_samples_split': 7}\n",
      "Best score is 0.7947469220246238\n"
     ]
    }
   ],
   "source": [
    "#Hyper parameter Tuning using RandomizedSearchCV\n",
    "\n",
    "from sklearn.model_selection import RandomizedSearchCV\n",
    "from scipy.stats import randint\n",
    "param={\"max_depth\": [3,5,7],\n",
    "       \"max_features\": randint(1, 11),\n",
    "              \"min_samples_split\": randint(2, 11),\n",
    "              \"min_samples_leaf\": randint(1, 11),\n",
    "              \"criterion\": [\"gini\", \"entropy\"]}\n",
    "rf1_cv=RandomizedSearchCV(model_2,param,cv=5)\n",
    "rf1_cv.fit(X_train[X1],y_train)\n",
    "\n",
    "print(\"Tuned Decision Tree Parameters: {}\".format(rf1_cv.best_params_))\n",
    "print(\"Best score is {}\".format(rf1_cv.best_score_))\n",
    "#print(\"Confusion Matrix:\\n \", confusion_matrix(y_test, rf_pred1))\n",
    "#print (\"Accuracy :\\n \",accuracy_score(y_test,rf_pred1)*100)\n",
    "#print(\"Report : \\n\", classification_report(y_test, rf_pred1)) "
   ]
  },
  {
   "cell_type": "code",
   "execution_count": 19,
   "id": "76bd022b",
   "metadata": {
    "scrolled": true
   },
   "outputs": [
    {
     "name": "stdout",
     "output_type": "stream",
     "text": [
      "Accuracy :\n",
      "  81.62162162162161\n",
      "Confusion Matrix:\n",
      "  [[ 36  22]\n",
      " [ 12 115]]\n",
      "Report : \n",
      "               precision    recall  f1-score   support\n",
      "\n",
      "         0.0       0.75      0.62      0.68        58\n",
      "         1.0       0.84      0.91      0.87       127\n",
      "\n",
      "    accuracy                           0.82       185\n",
      "   macro avg       0.79      0.76      0.78       185\n",
      "weighted avg       0.81      0.82      0.81       185\n",
      "\n",
      "the auc score is 0.763\n"
     ]
    }
   ],
   "source": [
    "y_pred = rf1_cv.predict(X_test[X1])\n",
    "\n",
    "print (\"Accuracy :\\n \",accuracy_score(y_test,y_pred)*100)\n",
    "\n",
    "print(\"Confusion Matrix:\\n \", confusion_matrix(y_test, y_pred))\n",
    "\n",
    "print(\"Report : \\n\", classification_report(y_test, y_pred))\n",
    "\n",
    "auc = metrics.roc_auc_score(y_test, y_pred)\n",
    "\n",
    "print(\"the auc score is %.3f\"%auc)"
   ]
  },
  {
   "cell_type": "code",
   "execution_count": 40,
   "id": "69d06d4c",
   "metadata": {},
   "outputs": [],
   "source": [
    "def objective_function(n_estimators, max_depth, min_samples_split, min_samples_leaf):\n",
    "    # Create a RandomForestClassifier with the given hyperparameters\n",
    "    model = RandomForestClassifier(\n",
    "        n_estimators=int(n_estimators),\n",
    "        max_depth=int(max_depth),\n",
    "        min_samples_split=int(min_samples_split),\n",
    "        min_samples_leaf=int(min_samples_leaf),\n",
    "        random_state=42\n",
    "    )\n",
    "\n",
    "    # Calculate the cross-validation score using the accuracy metric\n",
    "    scores = cross_val_score(model, X_train[X1], y_train, cv=5, scoring='accuracy')\n",
    "    \n",
    "    # Return the average score\n",
    "    return scores.mean()"
   ]
  },
  {
   "cell_type": "code",
   "execution_count": 41,
   "id": "cca4aa40",
   "metadata": {},
   "outputs": [],
   "source": [
    "param_bounds = {\n",
    "    'n_estimators': (10, 100),\n",
    "    'max_depth': (3, 10),\n",
    "    'min_samples_split': (2, 10),\n",
    "    'min_samples_leaf': (1, 5)\n",
    "}"
   ]
  },
  {
   "cell_type": "code",
   "execution_count": 42,
   "id": "ec584a05",
   "metadata": {},
   "outputs": [
    {
     "name": "stdout",
     "output_type": "stream",
     "text": [
      "|   iter    |  target   | max_depth | min_sa... | min_sa... | n_esti... |\n",
      "-------------------------------------------------------------------------\n",
      "| \u001b[0m1        \u001b[0m | \u001b[0m0.7971   \u001b[0m | \u001b[0m5.622    \u001b[0m | \u001b[0m4.803    \u001b[0m | \u001b[0m7.856    \u001b[0m | \u001b[0m63.88    \u001b[0m |\n",
      "| \u001b[0m2        \u001b[0m | \u001b[0m0.7947   \u001b[0m | \u001b[0m4.092    \u001b[0m | \u001b[0m1.624    \u001b[0m | \u001b[0m2.465    \u001b[0m | \u001b[0m87.96    \u001b[0m |\n",
      "| \u001b[0m3        \u001b[0m | \u001b[0m0.7855   \u001b[0m | \u001b[0m7.208    \u001b[0m | \u001b[0m3.832    \u001b[0m | \u001b[0m2.165    \u001b[0m | \u001b[0m97.29    \u001b[0m |\n",
      "| \u001b[0m4        \u001b[0m | \u001b[0m0.7691   \u001b[0m | \u001b[0m8.827    \u001b[0m | \u001b[0m1.849    \u001b[0m | \u001b[0m3.455    \u001b[0m | \u001b[0m26.51    \u001b[0m |\n",
      "| \u001b[0m5        \u001b[0m | \u001b[0m0.7947   \u001b[0m | \u001b[0m5.13     \u001b[0m | \u001b[0m3.099    \u001b[0m | \u001b[0m5.456    \u001b[0m | \u001b[0m36.21    \u001b[0m |\n",
      "| \u001b[0m6        \u001b[0m | \u001b[0m0.7947   \u001b[0m | \u001b[0m4.835    \u001b[0m | \u001b[0m2.965    \u001b[0m | \u001b[0m5.354    \u001b[0m | \u001b[0m36.21    \u001b[0m |\n",
      "| \u001b[0m7        \u001b[0m | \u001b[0m0.7947   \u001b[0m | \u001b[0m5.52     \u001b[0m | \u001b[0m3.539    \u001b[0m | \u001b[0m5.823    \u001b[0m | \u001b[0m72.81    \u001b[0m |\n",
      "| \u001b[0m8        \u001b[0m | \u001b[0m0.7947   \u001b[0m | \u001b[0m4.469    \u001b[0m | \u001b[0m4.155    \u001b[0m | \u001b[0m6.999    \u001b[0m | \u001b[0m45.93    \u001b[0m |\n",
      "| \u001b[0m9        \u001b[0m | \u001b[0m0.7947   \u001b[0m | \u001b[0m3.0      \u001b[0m | \u001b[0m1.0      \u001b[0m | \u001b[0m2.0      \u001b[0m | \u001b[0m57.48    \u001b[0m |\n",
      "| \u001b[0m10       \u001b[0m | \u001b[0m0.7924   \u001b[0m | \u001b[0m10.0     \u001b[0m | \u001b[0m5.0      \u001b[0m | \u001b[0m10.0     \u001b[0m | \u001b[0m55.54    \u001b[0m |\n",
      "| \u001b[0m11       \u001b[0m | \u001b[0m0.7948   \u001b[0m | \u001b[0m10.0     \u001b[0m | \u001b[0m5.0      \u001b[0m | \u001b[0m10.0     \u001b[0m | \u001b[0m82.59    \u001b[0m |\n",
      "| \u001b[0m12       \u001b[0m | \u001b[0m0.7668   \u001b[0m | \u001b[0m9.178    \u001b[0m | \u001b[0m1.303    \u001b[0m | \u001b[0m2.358    \u001b[0m | \u001b[0m64.2     \u001b[0m |\n",
      "| \u001b[0m13       \u001b[0m | \u001b[0m0.7924   \u001b[0m | \u001b[0m3.508    \u001b[0m | \u001b[0m5.0      \u001b[0m | \u001b[0m9.917    \u001b[0m | \u001b[0m67.85    \u001b[0m |\n",
      "| \u001b[0m14       \u001b[0m | \u001b[0m0.7924   \u001b[0m | \u001b[0m3.0      \u001b[0m | \u001b[0m5.0      \u001b[0m | \u001b[0m9.057    \u001b[0m | \u001b[0m59.73    \u001b[0m |\n",
      "| \u001b[0m15       \u001b[0m | \u001b[0m0.7947   \u001b[0m | \u001b[0m5.774    \u001b[0m | \u001b[0m3.131    \u001b[0m | \u001b[0m5.324    \u001b[0m | \u001b[0m81.24    \u001b[0m |\n",
      "=========================================================================\n"
     ]
    }
   ],
   "source": [
    "optimizer = BayesianOptimization(\n",
    "    f=objective_function,\n",
    "    pbounds=param_bounds,\n",
    "    random_state=42,\n",
    ")\n",
    "\n",
    "optimizer.maximize(init_points=5, n_iter=10)"
   ]
  },
  {
   "cell_type": "code",
   "execution_count": 43,
   "id": "b4b54432",
   "metadata": {},
   "outputs": [
    {
     "name": "stdout",
     "output_type": "stream",
     "text": [
      "Best Hyperparameters: {'max_depth': 5.621780831931537, 'min_samples_leaf': 4.802857225639665, 'min_samples_split': 7.855951534491241, 'n_estimators': 63.8792635777333}\n",
      "Best Score: -0.7970725034199726\n"
     ]
    }
   ],
   "source": [
    "best_params = optimizer.max['params']\n",
    "best_score = optimizer.max['target']\n",
    "\n",
    "print(\"Best Hyperparameters:\", best_params)\n",
    "print(\"Best Score:\", -best_score)"
   ]
  },
  {
   "cell_type": "code",
   "execution_count": 44,
   "id": "c2475d81",
   "metadata": {},
   "outputs": [
    {
     "data": {
      "text/html": [
       "<style>#sk-container-id-4 {color: black;background-color: white;}#sk-container-id-4 pre{padding: 0;}#sk-container-id-4 div.sk-toggleable {background-color: white;}#sk-container-id-4 label.sk-toggleable__label {cursor: pointer;display: block;width: 100%;margin-bottom: 0;padding: 0.3em;box-sizing: border-box;text-align: center;}#sk-container-id-4 label.sk-toggleable__label-arrow:before {content: \"▸\";float: left;margin-right: 0.25em;color: #696969;}#sk-container-id-4 label.sk-toggleable__label-arrow:hover:before {color: black;}#sk-container-id-4 div.sk-estimator:hover label.sk-toggleable__label-arrow:before {color: black;}#sk-container-id-4 div.sk-toggleable__content {max-height: 0;max-width: 0;overflow: hidden;text-align: left;background-color: #f0f8ff;}#sk-container-id-4 div.sk-toggleable__content pre {margin: 0.2em;color: black;border-radius: 0.25em;background-color: #f0f8ff;}#sk-container-id-4 input.sk-toggleable__control:checked~div.sk-toggleable__content {max-height: 200px;max-width: 100%;overflow: auto;}#sk-container-id-4 input.sk-toggleable__control:checked~label.sk-toggleable__label-arrow:before {content: \"▾\";}#sk-container-id-4 div.sk-estimator input.sk-toggleable__control:checked~label.sk-toggleable__label {background-color: #d4ebff;}#sk-container-id-4 div.sk-label input.sk-toggleable__control:checked~label.sk-toggleable__label {background-color: #d4ebff;}#sk-container-id-4 input.sk-hidden--visually {border: 0;clip: rect(1px 1px 1px 1px);clip: rect(1px, 1px, 1px, 1px);height: 1px;margin: -1px;overflow: hidden;padding: 0;position: absolute;width: 1px;}#sk-container-id-4 div.sk-estimator {font-family: monospace;background-color: #f0f8ff;border: 1px dotted black;border-radius: 0.25em;box-sizing: border-box;margin-bottom: 0.5em;}#sk-container-id-4 div.sk-estimator:hover {background-color: #d4ebff;}#sk-container-id-4 div.sk-parallel-item::after {content: \"\";width: 100%;border-bottom: 1px solid gray;flex-grow: 1;}#sk-container-id-4 div.sk-label:hover label.sk-toggleable__label {background-color: #d4ebff;}#sk-container-id-4 div.sk-serial::before {content: \"\";position: absolute;border-left: 1px solid gray;box-sizing: border-box;top: 0;bottom: 0;left: 50%;z-index: 0;}#sk-container-id-4 div.sk-serial {display: flex;flex-direction: column;align-items: center;background-color: white;padding-right: 0.2em;padding-left: 0.2em;position: relative;}#sk-container-id-4 div.sk-item {position: relative;z-index: 1;}#sk-container-id-4 div.sk-parallel {display: flex;align-items: stretch;justify-content: center;background-color: white;position: relative;}#sk-container-id-4 div.sk-item::before, #sk-container-id-4 div.sk-parallel-item::before {content: \"\";position: absolute;border-left: 1px solid gray;box-sizing: border-box;top: 0;bottom: 0;left: 50%;z-index: -1;}#sk-container-id-4 div.sk-parallel-item {display: flex;flex-direction: column;z-index: 1;position: relative;background-color: white;}#sk-container-id-4 div.sk-parallel-item:first-child::after {align-self: flex-end;width: 50%;}#sk-container-id-4 div.sk-parallel-item:last-child::after {align-self: flex-start;width: 50%;}#sk-container-id-4 div.sk-parallel-item:only-child::after {width: 0;}#sk-container-id-4 div.sk-dashed-wrapped {border: 1px dashed gray;margin: 0 0.4em 0.5em 0.4em;box-sizing: border-box;padding-bottom: 0.4em;background-color: white;}#sk-container-id-4 div.sk-label label {font-family: monospace;font-weight: bold;display: inline-block;line-height: 1.2em;}#sk-container-id-4 div.sk-label-container {text-align: center;}#sk-container-id-4 div.sk-container {/* jupyter's `normalize.less` sets `[hidden] { display: none; }` but bootstrap.min.css set `[hidden] { display: none !important; }` so we also need the `!important` here to be able to override the default hidden behavior on the sphinx rendered scikit-learn.org. See: https://github.com/scikit-learn/scikit-learn/issues/21755 */display: inline-block !important;position: relative;}#sk-container-id-4 div.sk-text-repr-fallback {display: none;}</style><div id=\"sk-container-id-4\" class=\"sk-top-container\"><div class=\"sk-text-repr-fallback\"><pre>RandomForestClassifier(max_depth=5, min_samples_split=7, n_estimators=63,\n",
       "                       random_state=42)</pre><b>In a Jupyter environment, please rerun this cell to show the HTML representation or trust the notebook. <br />On GitHub, the HTML representation is unable to render, please try loading this page with nbviewer.org.</b></div><div class=\"sk-container\" hidden><div class=\"sk-item\"><div class=\"sk-estimator sk-toggleable\"><input class=\"sk-toggleable__control sk-hidden--visually\" id=\"sk-estimator-id-4\" type=\"checkbox\" checked><label for=\"sk-estimator-id-4\" class=\"sk-toggleable__label sk-toggleable__label-arrow\">RandomForestClassifier</label><div class=\"sk-toggleable__content\"><pre>RandomForestClassifier(max_depth=5, min_samples_split=7, n_estimators=63,\n",
       "                       random_state=42)</pre></div></div></div></div></div>"
      ],
      "text/plain": [
       "RandomForestClassifier(max_depth=5, min_samples_split=7, n_estimators=63,\n",
       "                       random_state=42)"
      ]
     },
     "execution_count": 44,
     "metadata": {},
     "output_type": "execute_result"
    }
   ],
   "source": [
    "model = RandomForestClassifier(\n",
    "    n_estimators=int(best_params['n_estimators']),\n",
    "    max_depth=int(best_params['max_depth']),\n",
    "    min_samples_split=int(best_params['min_samples_split']),\n",
    "    random_state=42\n",
    ")\n",
    "\n",
    "model.fit(X_train[X1], y_train)"
   ]
  },
  {
   "cell_type": "code",
   "execution_count": 45,
   "id": "88b454df",
   "metadata": {},
   "outputs": [
    {
     "name": "stdout",
     "output_type": "stream",
     "text": [
      "Accuracy :\n",
      "  81.62162162162161\n",
      "Confusion Matrix:\n",
      "  [[ 33  25]\n",
      " [  9 118]]\n",
      "Report : \n",
      "               precision    recall  f1-score   support\n",
      "\n",
      "         0.0       0.79      0.57      0.66        58\n",
      "         1.0       0.83      0.93      0.87       127\n",
      "\n",
      "    accuracy                           0.82       185\n",
      "   macro avg       0.81      0.75      0.77       185\n",
      "weighted avg       0.81      0.82      0.81       185\n",
      "\n",
      "the auc score is 0.749\n"
     ]
    }
   ],
   "source": [
    "y_pred = model.predict(X_test[X1])\n",
    "\n",
    "print (\"Accuracy :\\n \",accuracy_score(y_test,y_pred)*100)\n",
    "\n",
    "print(\"Confusion Matrix:\\n \", confusion_matrix(y_test, y_pred))\n",
    "\n",
    "print(\"Report : \\n\", classification_report(y_test, y_pred))\n",
    "\n",
    "auc = metrics.roc_auc_score(y_test, y_pred)\n",
    "\n",
    "print(\"the auc score is %.3f\"%auc)"
   ]
  },
  {
   "cell_type": "markdown",
   "id": "735c61bf",
   "metadata": {},
   "source": [
    "### 3) Support Vector Machine"
   ]
  },
  {
   "cell_type": "code",
   "execution_count": 30,
   "id": "055ddb6f",
   "metadata": {},
   "outputs": [
    {
     "name": "stdout",
     "output_type": "stream",
     "text": [
      "Accuracy :\n",
      "  68.64864864864865\n",
      "Confusion Matrix:\n",
      "  [[  0  58]\n",
      " [  0 127]]\n",
      "Report : \n",
      "               precision    recall  f1-score   support\n",
      "\n",
      "         0.0       0.00      0.00      0.00        58\n",
      "         1.0       0.69      1.00      0.81       127\n",
      "\n",
      "    accuracy                           0.69       185\n",
      "   macro avg       0.34      0.50      0.41       185\n",
      "weighted avg       0.47      0.69      0.56       185\n",
      "\n",
      "the auc score is 0.500\n"
     ]
    },
    {
     "name": "stderr",
     "output_type": "stream",
     "text": [
      "C:\\Users\\Rishiraj\\AppData\\Local\\Programs\\Python\\Python311\\Lib\\site-packages\\sklearn\\metrics\\_classification.py:1344: UndefinedMetricWarning: Precision and F-score are ill-defined and being set to 0.0 in labels with no predicted samples. Use `zero_division` parameter to control this behavior.\n",
      "  _warn_prf(average, modifier, msg_start, len(result))\n",
      "C:\\Users\\Rishiraj\\AppData\\Local\\Programs\\Python\\Python311\\Lib\\site-packages\\sklearn\\metrics\\_classification.py:1344: UndefinedMetricWarning: Precision and F-score are ill-defined and being set to 0.0 in labels with no predicted samples. Use `zero_division` parameter to control this behavior.\n",
      "  _warn_prf(average, modifier, msg_start, len(result))\n",
      "C:\\Users\\Rishiraj\\AppData\\Local\\Programs\\Python\\Python311\\Lib\\site-packages\\sklearn\\metrics\\_classification.py:1344: UndefinedMetricWarning: Precision and F-score are ill-defined and being set to 0.0 in labels with no predicted samples. Use `zero_division` parameter to control this behavior.\n",
      "  _warn_prf(average, modifier, msg_start, len(result))\n"
     ]
    }
   ],
   "source": [
    "#SVM\n",
    "\n",
    "from sklearn.svm import SVC\n",
    "svm = SVC(kernel = 'rbf', random_state = 0)\n",
    "svm.fit(X_train[X1], y_train)\n",
    "y_pred = svm.predict(X_test[X1])\n",
    "\n",
    "print (\"Accuracy :\\n \",accuracy_score(y_test,y_pred)*100)\n",
    "\n",
    "print(\"Confusion Matrix:\\n \", confusion_matrix(y_test, y_pred))\n",
    "\n",
    "print(\"Report : \\n\", classification_report(y_test, y_pred))\n",
    "\n",
    "auc = metrics.roc_auc_score(y_test, y_pred)\n",
    "\n",
    "print(\"the auc score is %.3f\"%auc)"
   ]
  },
  {
   "cell_type": "code",
   "execution_count": 32,
   "id": "90464508",
   "metadata": {},
   "outputs": [
    {
     "data": {
      "text/html": [
       "<style>#sk-container-id-2 {color: black;background-color: white;}#sk-container-id-2 pre{padding: 0;}#sk-container-id-2 div.sk-toggleable {background-color: white;}#sk-container-id-2 label.sk-toggleable__label {cursor: pointer;display: block;width: 100%;margin-bottom: 0;padding: 0.3em;box-sizing: border-box;text-align: center;}#sk-container-id-2 label.sk-toggleable__label-arrow:before {content: \"▸\";float: left;margin-right: 0.25em;color: #696969;}#sk-container-id-2 label.sk-toggleable__label-arrow:hover:before {color: black;}#sk-container-id-2 div.sk-estimator:hover label.sk-toggleable__label-arrow:before {color: black;}#sk-container-id-2 div.sk-toggleable__content {max-height: 0;max-width: 0;overflow: hidden;text-align: left;background-color: #f0f8ff;}#sk-container-id-2 div.sk-toggleable__content pre {margin: 0.2em;color: black;border-radius: 0.25em;background-color: #f0f8ff;}#sk-container-id-2 input.sk-toggleable__control:checked~div.sk-toggleable__content {max-height: 200px;max-width: 100%;overflow: auto;}#sk-container-id-2 input.sk-toggleable__control:checked~label.sk-toggleable__label-arrow:before {content: \"▾\";}#sk-container-id-2 div.sk-estimator input.sk-toggleable__control:checked~label.sk-toggleable__label {background-color: #d4ebff;}#sk-container-id-2 div.sk-label input.sk-toggleable__control:checked~label.sk-toggleable__label {background-color: #d4ebff;}#sk-container-id-2 input.sk-hidden--visually {border: 0;clip: rect(1px 1px 1px 1px);clip: rect(1px, 1px, 1px, 1px);height: 1px;margin: -1px;overflow: hidden;padding: 0;position: absolute;width: 1px;}#sk-container-id-2 div.sk-estimator {font-family: monospace;background-color: #f0f8ff;border: 1px dotted black;border-radius: 0.25em;box-sizing: border-box;margin-bottom: 0.5em;}#sk-container-id-2 div.sk-estimator:hover {background-color: #d4ebff;}#sk-container-id-2 div.sk-parallel-item::after {content: \"\";width: 100%;border-bottom: 1px solid gray;flex-grow: 1;}#sk-container-id-2 div.sk-label:hover label.sk-toggleable__label {background-color: #d4ebff;}#sk-container-id-2 div.sk-serial::before {content: \"\";position: absolute;border-left: 1px solid gray;box-sizing: border-box;top: 0;bottom: 0;left: 50%;z-index: 0;}#sk-container-id-2 div.sk-serial {display: flex;flex-direction: column;align-items: center;background-color: white;padding-right: 0.2em;padding-left: 0.2em;position: relative;}#sk-container-id-2 div.sk-item {position: relative;z-index: 1;}#sk-container-id-2 div.sk-parallel {display: flex;align-items: stretch;justify-content: center;background-color: white;position: relative;}#sk-container-id-2 div.sk-item::before, #sk-container-id-2 div.sk-parallel-item::before {content: \"\";position: absolute;border-left: 1px solid gray;box-sizing: border-box;top: 0;bottom: 0;left: 50%;z-index: -1;}#sk-container-id-2 div.sk-parallel-item {display: flex;flex-direction: column;z-index: 1;position: relative;background-color: white;}#sk-container-id-2 div.sk-parallel-item:first-child::after {align-self: flex-end;width: 50%;}#sk-container-id-2 div.sk-parallel-item:last-child::after {align-self: flex-start;width: 50%;}#sk-container-id-2 div.sk-parallel-item:only-child::after {width: 0;}#sk-container-id-2 div.sk-dashed-wrapped {border: 1px dashed gray;margin: 0 0.4em 0.5em 0.4em;box-sizing: border-box;padding-bottom: 0.4em;background-color: white;}#sk-container-id-2 div.sk-label label {font-family: monospace;font-weight: bold;display: inline-block;line-height: 1.2em;}#sk-container-id-2 div.sk-label-container {text-align: center;}#sk-container-id-2 div.sk-container {/* jupyter's `normalize.less` sets `[hidden] { display: none; }` but bootstrap.min.css set `[hidden] { display: none !important; }` so we also need the `!important` here to be able to override the default hidden behavior on the sphinx rendered scikit-learn.org. See: https://github.com/scikit-learn/scikit-learn/issues/21755 */display: inline-block !important;position: relative;}#sk-container-id-2 div.sk-text-repr-fallback {display: none;}</style><div id=\"sk-container-id-2\" class=\"sk-top-container\"><div class=\"sk-text-repr-fallback\"><pre>GridSearchCV(estimator=SVC(),\n",
       "             param_grid={&#x27;C&#x27;: [0.1, 1, 10, 100, 1000],\n",
       "                         &#x27;gamma&#x27;: [1, 0.1, 0.01, 0.001, 0.0001],\n",
       "                         &#x27;kernel&#x27;: [&#x27;rbf&#x27;]})</pre><b>In a Jupyter environment, please rerun this cell to show the HTML representation or trust the notebook. <br />On GitHub, the HTML representation is unable to render, please try loading this page with nbviewer.org.</b></div><div class=\"sk-container\" hidden><div class=\"sk-item sk-dashed-wrapped\"><div class=\"sk-label-container\"><div class=\"sk-label sk-toggleable\"><input class=\"sk-toggleable__control sk-hidden--visually\" id=\"sk-estimator-id-2\" type=\"checkbox\" ><label for=\"sk-estimator-id-2\" class=\"sk-toggleable__label sk-toggleable__label-arrow\">GridSearchCV</label><div class=\"sk-toggleable__content\"><pre>GridSearchCV(estimator=SVC(),\n",
       "             param_grid={&#x27;C&#x27;: [0.1, 1, 10, 100, 1000],\n",
       "                         &#x27;gamma&#x27;: [1, 0.1, 0.01, 0.001, 0.0001],\n",
       "                         &#x27;kernel&#x27;: [&#x27;rbf&#x27;]})</pre></div></div></div><div class=\"sk-parallel\"><div class=\"sk-parallel-item\"><div class=\"sk-item\"><div class=\"sk-label-container\"><div class=\"sk-label sk-toggleable\"><input class=\"sk-toggleable__control sk-hidden--visually\" id=\"sk-estimator-id-3\" type=\"checkbox\" ><label for=\"sk-estimator-id-3\" class=\"sk-toggleable__label sk-toggleable__label-arrow\">estimator: SVC</label><div class=\"sk-toggleable__content\"><pre>SVC()</pre></div></div></div><div class=\"sk-serial\"><div class=\"sk-item\"><div class=\"sk-estimator sk-toggleable\"><input class=\"sk-toggleable__control sk-hidden--visually\" id=\"sk-estimator-id-4\" type=\"checkbox\" ><label for=\"sk-estimator-id-4\" class=\"sk-toggleable__label sk-toggleable__label-arrow\">SVC</label><div class=\"sk-toggleable__content\"><pre>SVC()</pre></div></div></div></div></div></div></div></div></div></div>"
      ],
      "text/plain": [
       "GridSearchCV(estimator=SVC(),\n",
       "             param_grid={'C': [0.1, 1, 10, 100, 1000],\n",
       "                         'gamma': [1, 0.1, 0.01, 0.001, 0.0001],\n",
       "                         'kernel': ['rbf']})"
      ]
     },
     "execution_count": 32,
     "metadata": {},
     "output_type": "execute_result"
    }
   ],
   "source": [
    "#Hyper parameter Tuning using RandomizedSearchCV\n",
    "from sklearn.model_selection import GridSearchCV\n",
    "# defining parameter range\n",
    "param_grid = {'C': [0.1, 1, 10, 100, 1000], \n",
    "              'gamma': [1, 0.1, 0.01, 0.001, 0.0001],\n",
    "              'kernel': ['rbf']} \n",
    "  \n",
    "grid = GridSearchCV(SVC(), param_grid, refit = True)\n",
    "  \n",
    "# fitting the model for grid search\n",
    "grid.fit(X_train, y_train)"
   ]
  },
  {
   "cell_type": "code",
   "execution_count": 33,
   "id": "5913f63f",
   "metadata": {},
   "outputs": [
    {
     "name": "stdout",
     "output_type": "stream",
     "text": [
      "Accuracy :\n",
      "  67.56756756756756\n",
      "Confusion Matrix:\n",
      "  [[  7  51]\n",
      " [  9 118]]\n",
      "Report : \n",
      "               precision    recall  f1-score   support\n",
      "\n",
      "         0.0       0.44      0.12      0.19        58\n",
      "         1.0       0.70      0.93      0.80       127\n",
      "\n",
      "    accuracy                           0.68       185\n",
      "   macro avg       0.57      0.52      0.49       185\n",
      "weighted avg       0.62      0.68      0.61       185\n",
      "\n",
      "the auc score is 0.525\n"
     ]
    }
   ],
   "source": [
    "y_pred = grid.predict(X_test)\n",
    "\n",
    "print (\"Accuracy :\\n \",accuracy_score(y_test,y_pred)*100)\n",
    "\n",
    "print(\"Confusion Matrix:\\n \", confusion_matrix(y_test, y_pred))\n",
    "\n",
    "print(\"Report : \\n\", classification_report(y_test, y_pred))\n",
    "\n",
    "auc = metrics.roc_auc_score(y_test, y_pred)\n",
    "\n",
    "print(\"the auc score is %.3f\"%auc)"
   ]
  }
 ],
 "metadata": {
  "kernelspec": {
   "display_name": "Python 3 (ipykernel)",
   "language": "python",
   "name": "python3"
  },
  "language_info": {
   "codemirror_mode": {
    "name": "ipython",
    "version": 3
   },
   "file_extension": ".py",
   "mimetype": "text/x-python",
   "name": "python",
   "nbconvert_exporter": "python",
   "pygments_lexer": "ipython3",
   "version": "3.11.3"
  },
  "varInspector": {
   "cols": {
    "lenName": 16,
    "lenType": 16,
    "lenVar": 40
   },
   "kernels_config": {
    "python": {
     "delete_cmd_postfix": "",
     "delete_cmd_prefix": "del ",
     "library": "var_list.py",
     "varRefreshCmd": "print(var_dic_list())"
    },
    "r": {
     "delete_cmd_postfix": ") ",
     "delete_cmd_prefix": "rm(",
     "library": "var_list.r",
     "varRefreshCmd": "cat(var_dic_list()) "
    }
   },
   "types_to_exclude": [
    "module",
    "function",
    "builtin_function_or_method",
    "instance",
    "_Feature"
   ],
   "window_display": false
  }
 },
 "nbformat": 4,
 "nbformat_minor": 5
}
