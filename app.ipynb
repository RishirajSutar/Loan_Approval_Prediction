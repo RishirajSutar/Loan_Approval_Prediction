{
 "cells": [
  {
   "cell_type": "code",
   "execution_count": 4,
   "id": "ea225169",
   "metadata": {},
   "outputs": [
    {
     "name": "stdout",
     "output_type": "stream",
     "text": [
      "Requirement already satisfied: scipy in c:\\users\\rishiraj\\appdata\\local\\programs\\python\\python311\\lib\\site-packages (1.10.1)\n",
      "Requirement already satisfied: numpy<1.27.0,>=1.19.5 in c:\\users\\rishiraj\\appdata\\local\\programs\\python\\python311\\lib\\site-packages (from scipy) (1.24.3)\n",
      "Note: you may need to restart the kernel to use updated packages.\n"
     ]
    },
    {
     "name": "stderr",
     "output_type": "stream",
     "text": [
      "\n",
      "[notice] A new release of pip is available: 23.1.2 -> 23.2.1\n",
      "[notice] To update, run: python.exe -m pip install --upgrade pip\n"
     ]
    }
   ],
   "source": [
    "pip install scipy"
   ]
  },
  {
   "cell_type": "code",
   "execution_count": 7,
   "id": "5b293f45",
   "metadata": {},
   "outputs": [],
   "source": [
    "import pandas as pd\n",
    "from sklearn.linear_model import LogisticRegression\n",
    "import numpy as np\n",
    "\n",
    "\n",
    "data = pd.read_csv(\"train_u6lujuX_CVtuZ9i.csv\")\n",
    "data['Education'] = data['Education'].replace(['Graduate', 'Not Graduate'] , [1.0 , 0.0])\n",
    "mode_value = data['Education'].mode()[0]\n",
    "\n",
    "# Replace the null values with the mode value\n",
    "data['Education'].fillna(mode_value, inplace=True)\n",
    "\n",
    "data['ApplicantIncome'] = data['ApplicantIncome'].astype(float)\n",
    "data = data.drop('Loan_ID' , axis = 1)\n",
    "\n",
    "data['Gender'] = data['Gender'].replace(['Male', 'Female'] , [1.0 , 0.0])\n",
    "data['Gender'].unique()\n",
    "\n",
    "mode_value = data['Gender'].mode()[0]\n",
    "\n",
    "# Replace the null values with the mode value\n",
    "data['Gender'].fillna(mode_value, inplace=True)\n",
    "\n",
    "\n",
    "data['Married'] = data['Married'].replace(['No', 'Yes'] , [0.0 , 1.0])\n",
    "\n",
    "mode_value = data['Married'].mode()[0]\n",
    "\n",
    "# Replace the null values with the mode value\n",
    "data['Married'].fillna(mode_value, inplace=True)\n",
    "\n",
    "\n",
    "data['Self_Employed'] = data['Self_Employed'].replace(['No', 'Yes'] , [0.0 , 1.0])\n",
    "\n",
    "mode_value = data['Self_Employed'].mode()[0]\n",
    "\n",
    "# Replace the null values with the mode value\n",
    "data['Self_Employed'].fillna(mode_value, inplace=True)\n",
    "\n",
    "\n",
    "data['Property_Area'] = data['Property_Area'].replace(['Urban', 'Rural', 'Semiurban'] , [2.0 , 0.0 , 1.0])\n",
    "\n",
    "mode_value = data['Property_Area'].mode()[0]\n",
    "\n",
    "# Replace the null values with the mode value\n",
    "data['Property_Area'].fillna(mode_value, inplace=True)\n",
    "\n",
    "\n",
    "data['Loan_Status'] = data['Loan_Status'].replace(['Y', 'N'] , [1.0 , 0.0])\n",
    "\n",
    "mode_value = data['Loan_Status'].mode()[0]\n",
    "\n",
    "# Replace the null values with the mode value\n",
    "data['Loan_Status'].fillna(mode_value, inplace=True)\n",
    "\n",
    "\n",
    "data['Dependents'] = data['Dependents'].replace(['0', '1', '2', '3+'] , [0.0 , 1.0 , 2.0 , 3.0])\n",
    "\n",
    "mode_value = data['Dependents'].mode()[0]\n",
    "\n",
    "# Replace the null values with the mode value\n",
    "data['Dependents'].fillna(mode_value, inplace=True)\n",
    "\n",
    "\n",
    "mode_value = data['Credit_History'].mode()[0]\n",
    "\n",
    "data['Credit_History'].fillna(mode_value , inplace=True)\n",
    "\n",
    "#imputations in continuous variables\n",
    "\n",
    "med_value = data['LoanAmount'].median()\n",
    "\n",
    "data['LoanAmount'].fillna(med_value , inplace=True)\n",
    "\n",
    "\n",
    "med_value = data['Loan_Amount_Term'].median()\n",
    "\n",
    "data['Loan_Amount_Term'].fillna(med_value , inplace=True)\n",
    "\n",
    "\n",
    "#Seperating response and Predictors\n",
    "\n",
    "y = data['Loan_Status']\n",
    "X = data.drop('Loan_Status' , axis=1 , inplace=False)\n",
    "\n",
    "predictors = list(X.columns)\n",
    "\n",
    "\n",
    "#Splitting the Data into trainig and testing sets\n",
    "\n",
    "\n",
    "from sklearn.model_selection import train_test_split\n",
    "X_train , X_test , y_train , y_test = train_test_split(X , y , test_size = 0.3 , random_state = 42 , stratify = y)\n",
    "\n",
    "\n",
    "\n",
    "X1 = ['Married'  , 'Credit_History' , 'CoapplicantIncome' , 'LoanAmount']\n",
    "\n",
    "#fitting a logistic Model\n",
    "logisticRegr = LogisticRegression(max_iter=4000)\n",
    "logisticRegr.fit(X_train[X1], y_train)\n",
    "\n",
    "import warnings\n",
    "import pickle\n",
    "warnings.filterwarnings(\"ignore\")\n",
    "\n",
    "pickle.dump(logisticRegr,open('model.pkl','wb'))\n",
    "\n",
    "model = pickle.load(open('model.pkl','rb'))\n"
   ]
  }
 ],
 "metadata": {
  "kernelspec": {
   "display_name": "Python 3 (ipykernel)",
   "language": "python",
   "name": "python3"
  },
  "language_info": {
   "codemirror_mode": {
    "name": "ipython",
    "version": 3
   },
   "file_extension": ".py",
   "mimetype": "text/x-python",
   "name": "python",
   "nbconvert_exporter": "python",
   "pygments_lexer": "ipython3",
   "version": "3.11.3"
  },
  "varInspector": {
   "cols": {
    "lenName": 16,
    "lenType": 16,
    "lenVar": 40
   },
   "kernels_config": {
    "python": {
     "delete_cmd_postfix": "",
     "delete_cmd_prefix": "del ",
     "library": "var_list.py",
     "varRefreshCmd": "print(var_dic_list())"
    },
    "r": {
     "delete_cmd_postfix": ") ",
     "delete_cmd_prefix": "rm(",
     "library": "var_list.r",
     "varRefreshCmd": "cat(var_dic_list()) "
    }
   },
   "types_to_exclude": [
    "module",
    "function",
    "builtin_function_or_method",
    "instance",
    "_Feature"
   ],
   "window_display": false
  }
 },
 "nbformat": 4,
 "nbformat_minor": 5
}
